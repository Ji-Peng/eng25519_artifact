{
 "cells": [
  {
   "cell_type": "code",
   "execution_count": 1,
   "metadata": {},
   "outputs": [
    {
     "name": "stdout",
     "output_type": "stream",
     "text": [
      "all of the data are obtained from unbound and dot_timer\n",
      "batch_keygen/s_b1.txt  avg is:  28450.2639\n",
      "batch_keygen/s_b2.txt  avg is:  24977.2047\n",
      "batch_keygen/s_b4.txt  avg is:  19388.31005\n",
      "batch_keygen/s_b8.txt  avg is:  14107.935096153846\n",
      "batch_keygen/s_b16.txt  avg is:  11406.17462940705\n",
      "batch_keygen/s_b32.txt  avg is:  10259.260516826924\n",
      "batch_keygen/s_b64.txt  avg is:  9691.17462940705\n",
      "batch_keygen/s_b128.txt  avg is:  9308.194952713815\n",
      "batch_keygen/s_b1_helper.txt  avg is:  10314.58875\n",
      "batch_keygen/s_b2_helper.txt  avg is:  9903.49965\n",
      "batch_keygen/s_b4_helper.txt  avg is:  9107.30925\n",
      "batch_keygen/s_b8_helper.txt  avg is:  9002.91040665064\n",
      "batch_keygen/s_b16_helper.txt  avg is:  8979.528846153846\n",
      "batch_keygen/s_b32_helper.txt  avg is:  9104.015124198719\n",
      "batch_keygen/s_b64_helper.txt  avg is:  9165.0546875\n",
      "batch_keygen/s_b128_helper.txt  avg is:  9222.157843338815\n"
     ]
    }
   ],
   "source": [
    "# helper means that there is a helper thread to help us warm-up vector units\n",
    "file_names = ['batch_keygen/s_b1.txt',\n",
    "              'batch_keygen/s_b2.txt',\n",
    "              'batch_keygen/s_b4.txt',\n",
    "              'batch_keygen/s_b8.txt',\n",
    "              'batch_keygen/s_b16.txt',\n",
    "              'batch_keygen/s_b32.txt',\n",
    "              'batch_keygen/s_b64.txt',\n",
    "              'batch_keygen/s_b128.txt',\n",
    "              'batch_keygen/s_b1_helper.txt',\n",
    "              'batch_keygen/s_b2_helper.txt',\n",
    "              'batch_keygen/s_b4_helper.txt',\n",
    "              'batch_keygen/s_b8_helper.txt',\n",
    "              'batch_keygen/s_b16_helper.txt',\n",
    "              'batch_keygen/s_b32_helper.txt',\n",
    "              'batch_keygen/s_b64_helper.txt',\n",
    "              'batch_keygen/s_b128_helper.txt']\n",
    "\n",
    "print(\"all of the data are obtained from unbound and dot_timer\")\n",
    "\n",
    "for file in file_names:\n",
    "    with open(file, 'r') as f1:\n",
    "        keygen = []\n",
    "        for line in f1:\n",
    "            # print(line[21:])\n",
    "            if line[13:19] == \"keygen\":\n",
    "                keygen.append(int(line[22:]))\n",
    "        avg = sum(keygen)/len(keygen)\n",
    "        print(file, \" avg is: \", avg)"
   ]
  },
  {
   "cell_type": "code",
   "execution_count": 1,
   "metadata": {},
   "outputs": [
    {
     "name": "stdout",
     "output_type": "stream",
     "text": [
      "all of the data are obtained from unbound and dot_timer\n",
      "cc_unbound/c_unbound.txt\n",
      "keygen avg is:  9799.539173041348\n",
      "derive avg is:  97789.4497550245\n",
      "verify avg is:  238762.3180840958\n",
      "average CC of longer delay and shorter delay is:  1147176.7272727273 1609.140447174942\n",
      "average millisecond of longer delay and shorter delay is:  0.3823922424242424 0.000536380149058314\n",
      "cc_unbound/c_unbound_helper.txt\n",
      "keygen avg is:  9576.598120093995\n",
      "derive avg is:  64395.35352929414\n",
      "verify avg is:  90955.53792310384\n",
      "average CC of longer delay and shorter delay is:  910265.3641618497 1718.0568388137988\n",
      "average millisecond of longer delay and shorter delay is:  0.3034217880539499 0.0005726856129379329\n",
      "cc_unbound/s_unbound.txt\n",
      "keygen avg is:  11283.281035948203\n",
      "derive avg is:  95662.99440083987\n",
      "sign avg is:  52437.52792360382\n",
      "average CC of longer delay and shorter delay is:  1333783.8630136987 1558.5222865776882\n",
      "average millisecond of longer delay and shorter delay is:  0.44459462100456626 0.0005195074288592294\n",
      "cc_unbound/s_unbound_helper.txt\n",
      "keygen avg is:  9094.446277686116\n",
      "derive avg is:  74177.27607239276\n",
      "sign avg is:  28515.40827958602\n",
      "average CC of longer delay and shorter delay is:  867772.2078651686 1383.9765424002421\n",
      "average millisecond of longer delay and shorter delay is:  0.28925740262172284 0.000461325514133414\n"
     ]
    }
   ],
   "source": [
    "file_names = [\n",
    "                'cc_unbound/c_unbound.txt',\n",
    "                'cc_unbound/c_unbound_helper.txt',\n",
    "                'cc_unbound/s_unbound.txt',\n",
    "                'cc_unbound/s_unbound_helper.txt',\n",
    "            ]\n",
    "\n",
    "print(\"all of the data are obtained from unbound and dot_timer\")\n",
    "\n",
    "for file in file_names:\n",
    "    with open(file, 'r') as f1:\n",
    "        keygen = []\n",
    "        derive = []\n",
    "        sign = []\n",
    "        verify = []\n",
    "        keygen.clear()\n",
    "        for line in f1:\n",
    "            if line[6:19] == \"x25519_keygen\":\n",
    "                keygen.append(int(line[22:]))\n",
    "            elif line[6:19] == \"x25519_derive\" and int(line[22:]) > 10000:\n",
    "                derive.append(int(line[22:]))\n",
    "            elif line[6:18] == \"ed25519_sign\":\n",
    "                sign.append(int(line[21:]))\n",
    "            elif line[6:19] == \"ed25519_verif\":\n",
    "                verify.append(int(line[23:]))\n",
    "        print(file)\n",
    "        print(\"keygen avg is: \", sum(keygen)/len(keygen))\n",
    "        print(\"derive avg is: \", sum(derive)/len(derive))\n",
    "        if len(sign) != 0:\n",
    "            print(\"sign avg is: \", sum(sign)/len(sign))\n",
    "        if len(verify) != 0:\n",
    "            print(\"verify avg is: \", sum(verify)/len(verify))\n",
    "        # compute average CC of longer delay case (fill batch-store) and shorter delay case (fetch directly from batch-store)\n",
    "        sum_longer = num_longer = sum_shorter = num_shorter = 0\n",
    "        for cc in keygen:\n",
    "            if cc > 10000:\n",
    "                sum_longer += cc\n",
    "                num_longer += 1\n",
    "            else:\n",
    "                sum_shorter += cc\n",
    "                num_shorter += 1\n",
    "        # print(\"num_longer = \", num_longer, \", num_shorter = \", num_shorter)\n",
    "        print(\"average CC of longer delay and shorter delay is: \", sum_longer/num_longer, sum_shorter/num_shorter)\n",
    "        print(\"average millisecond of longer delay and shorter delay is: \", sum_longer/num_longer/(3*(10**6)), sum_shorter/num_shorter/(3*(10**6)))"
   ]
  }
 ],
 "metadata": {
  "kernelspec": {
   "display_name": "Python 3",
   "language": "python",
   "name": "python3"
  },
  "language_info": {
   "codemirror_mode": {
    "name": "ipython",
    "version": 3
   },
   "file_extension": ".py",
   "mimetype": "text/x-python",
   "name": "python",
   "nbconvert_exporter": "python",
   "pygments_lexer": "ipython3",
   "version": "3.9.6"
  },
  "orig_nbformat": 4,
  "vscode": {
   "interpreter": {
    "hash": "b0fa6594d8f4cbf19f97940f81e996739fb7646882a419484c72d19e05852a7e"
   }
  }
 },
 "nbformat": 4,
 "nbformat_minor": 2
}
