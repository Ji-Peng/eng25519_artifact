{
 "cells": [
  {
   "cell_type": "markdown",
   "metadata": {},
   "source": [
    "This script is used for simulating and obtaining the ratio of the full handshake to the fast handshake with session resumption mechanisms in a simulated environment."
   ]
  },
  {
   "cell_type": "code",
   "execution_count": 2,
   "metadata": {},
   "outputs": [
    {
     "name": "stdout",
     "output_type": "stream",
     "text": [
      "total_handshakes:  24756\n",
      "full_ratio:  0.10373242850218128\n",
      "quick_ratio:  0.8962675714978187\n"
     ]
    }
   ],
   "source": [
    "import numpy as np\n",
    "\n",
    "# Define simulation parameters\n",
    "N = 10  # number of clients\n",
    "# N = 20\n",
    "S = 1  # number of servers\n",
    "E = 300  # session expiration time (in seconds)\n",
    "# E = 30\n",
    "T = 24*60*60  # simulation time (in seconds)\n",
    "# T = 300\n",
    "full_handshake_count = 0  # counter for full handshakes\n",
    "quick_handshake_count = 0  # counter for quick handshakes\n",
    "\n",
    "rate_600s = 17.361\n",
    "# Define client and server states\n",
    "client_states = [{'session': None, 'create_time': None, 'valid': None} for i in range(N)]\n",
    "# Initialize simulation environment\n",
    "client_request_times = [np.cumsum(np.random.exponential(600 / rate_600s, sum(np.random.poisson(rate_600s, T//600)))).tolist() for i in range(N)]\n",
    "\n",
    "# print(client_request_times)\n",
    "\n",
    "# Define event handling functions\n",
    "def handle_client_request(client_id, time):\n",
    "    global full_handshake_count, quick_handshake_count\n",
    "\n",
    "    # Check if client has an active session\n",
    "    if client_states[client_id]['session'] is not None:\n",
    "        # Check if session is still valid\n",
    "        # if time - client_states[client_id]['create_time'] <= E:\n",
    "        if client_states[client_id]['valid'] == True:\n",
    "            # Perform quick handshake\n",
    "            quick_handshake_count += 1\n",
    "            return\n",
    "\n",
    "    # Perform full handshake\n",
    "    full_handshake_count += 1\n",
    "    # Create new session\n",
    "    client_states[client_id]['session'] = 1\n",
    "    client_states[client_id]['create_time'] = time\n",
    "    client_states[client_id]['valid'] = True\n",
    "\n",
    "    return\n",
    "\n",
    "def handle_timer_update(client_id, time):\n",
    "    # Check if client has an active session\n",
    "    if client_states[client_id]['session'] is not None:\n",
    "        # Check if session has expired\n",
    "        if time - client_states[client_id]['create_time'] > E:\n",
    "            client_states[client_id]['valid'] = False\n",
    "    while len(client_request_times[client_id]) > 0 and client_request_times[client_id][0] <= time:\n",
    "        handle_client_request(client_id, time)\n",
    "        client_request_times[client_id].pop(0)\n",
    "\n",
    "# Run simulation loop\n",
    "for i in range(0, T, 1):\n",
    "    # Handle timer update event for all clients\n",
    "    for j in range(N):\n",
    "        handle_timer_update(j, i)\n",
    "\n",
    "total_handshakes = full_handshake_count + quick_handshake_count\n",
    "full_ratio = full_handshake_count / total_handshakes\n",
    "quick_ratio = quick_handshake_count / total_handshakes\n",
    "\n",
    "print(\"total_handshakes: \", total_handshakes)\n",
    "print(\"full_ratio: \", full_ratio)\n",
    "print(\"quick_ratio: \", quick_ratio)"
   ]
  }
 ],
 "metadata": {
  "kernelspec": {
   "display_name": "Python 3",
   "language": "python",
   "name": "python3"
  },
  "language_info": {
   "codemirror_mode": {
    "name": "ipython",
    "version": 3
   },
   "file_extension": ".py",
   "mimetype": "text/x-python",
   "name": "python",
   "nbconvert_exporter": "python",
   "pygments_lexer": "ipython3",
   "version": "3.9.6"
  },
  "orig_nbformat": 4
 },
 "nbformat": 4,
 "nbformat_minor": 2
}
